{
 "cells": [
  {
   "cell_type": "code",
   "execution_count": 23,
   "metadata": {},
   "outputs": [
    {
     "name": "stdout",
     "output_type": "stream",
     "text": [
      "Загадано число от 1 до 100\n"
     ]
    }
   ],
   "source": [
    "# Мой вариант кода:\n",
    "\n",
    "import numpy as np\n",
    "print (\"Загадано число от 1 до 100\")\n",
    "\n",
    "def game_core(count): # создаём функцию для счётчика и записываем в её наш код\n",
    "    count = 0 \n",
    "    predict = np.random.randint(1,101)\n",
    "    \n",
    "    for number in range(1,101): # не придумал ничего  лучшее, чем пойти через цикл.\n",
    "        if number != predict:\n",
    "            count += 1\n",
    "            continue   \n",
    "        else:\n",
    "            number == predict\n",
    "            break # выход из цикла\n",
    "    return(count) # возвращаем количество попыток\n",
    "\n",
    "\n",
    " # Запускаем игру 1000 раз, чтобы узнать, как быстро игра угадывает число\n",
    "def score_game(game_core):\n",
    "    count_ls = [] # создаем список-счетчик\n",
    "    np.random.seed(1)  # фиксируем RANDOM SEED\n",
    "    random_array = np.random.randint(1,101, size=(1000)) # задаём количество  попыток = 1000\n",
    "    for number in random_array:\n",
    "        count_ls.append(game_core(number))\n",
    "    score = int(np.mean(count_ls))\n",
    "    print(f\"Ваш алгоритм угадывает число в среднем за {score} попыток\")\n",
    "    return(score)"
   ]
  },
  {
   "cell_type": "code",
   "execution_count": 24,
   "metadata": {},
   "outputs": [
    {
     "name": "stdout",
     "output_type": "stream",
     "text": [
      "Ваш алгоритм угадывает число в среднем за 50 попыток\n"
     ]
    },
    {
     "data": {
      "text/plain": [
       "50"
      ]
     },
     "execution_count": 24,
     "metadata": {},
     "output_type": "execute_result"
    }
   ],
   "source": [
    "# Проверяем\n",
    "score_game(game_core)"
   ]
  },
  {
   "cell_type": "code",
   "execution_count": null,
   "metadata": {},
   "outputs": [],
   "source": []
  }
 ],
 "metadata": {
  "kernelspec": {
   "display_name": "Python 3",
   "language": "python",
   "name": "python3"
  },
  "language_info": {
   "codemirror_mode": {
    "name": "ipython",
    "version": 3
   },
   "file_extension": ".py",
   "mimetype": "text/x-python",
   "name": "python",
   "nbconvert_exporter": "python",
   "pygments_lexer": "ipython3",
   "version": "3.8.3"
  }
 },
 "nbformat": 4,
 "nbformat_minor": 4
}
